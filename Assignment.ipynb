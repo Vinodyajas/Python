{
 "cells": [
  {
   "cell_type": "code",
   "execution_count": 2,
   "metadata": {},
   "outputs": [
    {
     "name": "stdout",
     "output_type": "stream",
     "text": [
      "Hope AI\n"
     ]
    }
   ],
   "source": [
    "print(\"Hope AI\")"
   ]
  },
  {
   "cell_type": "code",
   "execution_count": 4,
   "metadata": {},
   "outputs": [
    {
     "name": "stdout",
     "output_type": "stream",
     "text": [
      "Enter your institute name?:Hope AI\n"
     ]
    }
   ],
   "source": [
    "Institute_name = input(\"Enter your institute name?:\")"
   ]
  },
  {
   "cell_type": "code",
   "execution_count": 6,
   "metadata": {},
   "outputs": [
    {
     "name": "stdout",
     "output_type": "stream",
     "text": [
      "Enter your name:Vinodhkumar\n",
      "Enter your age:34\n",
      "Enter your school name:St.Joseph\n",
      "Enter your degree:b.com\n"
     ]
    }
   ],
   "source": [
    "name = input (\"Enter your name:\")\n",
    "age = int (input(\"Enter your age:\"))\n",
    "School_name = input (\"Enter your school name:\")\n",
    "Degree=input(\"Enter your degree:\")"
   ]
  },
  {
   "cell_type": "code",
   "execution_count": 10,
   "metadata": {},
   "outputs": [
    {
     "name": "stdout",
     "output_type": "stream",
     "text": [
      "a= 43\n",
      "b= 34\n",
      "Add =  77\n"
     ]
    }
   ],
   "source": [
    "a = 43\n",
    "print(\"a=\",a)\n",
    "b = 34\n",
    "print(\"b=\",b)\n",
    "add = (a+b)\n",
    "print (\"Add = \",add)"
   ]
  },
  {
   "cell_type": "code",
   "execution_count": 13,
   "metadata": {},
   "outputs": [
    {
     "name": "stdout",
     "output_type": "stream",
     "text": [
      "a= 63\n",
      "b= 97\n",
      "Multiply =  6111\n"
     ]
    }
   ],
   "source": [
    "a = 63\n",
    "print(\"a=\",a)\n",
    "b = 97\n",
    "print(\"b=\",b)\n",
    "Mul = (a*b)\n",
    "print (\"Multiply = \",Mul)"
   ]
  },
  {
   "cell_type": "code",
   "execution_count": 24,
   "metadata": {},
   "outputs": [
    {
     "name": "stdout",
     "output_type": "stream",
     "text": [
      "a= 76\n",
      "b= 31\n",
      "Float Div =  2.4516129032258065\n"
     ]
    }
   ],
   "source": [
    "a = 76\n",
    "print(\"a=\",a)\n",
    "b = 31\n",
    "print(\"b=\",b)\n",
    "Divide = (a/b)\n",
    "print (\"Float Div = \", Divide)"
   ]
  },
  {
   "cell_type": "code",
   "execution_count": 25,
   "metadata": {},
   "outputs": [
    {
     "name": "stdout",
     "output_type": "stream",
     "text": [
      "a= 76\n",
      "b= 31\n",
      "Floor Div =  2\n"
     ]
    }
   ],
   "source": [
    "a = 76\n",
    "print(\"a=\",a)\n",
    "b = 31\n",
    "print(\"b=\",b)\n",
    "Divide = (a//b)\n",
    "print (\"Floor Div = \", Divide)"
   ]
  },
  {
   "cell_type": "code",
   "execution_count": 27,
   "metadata": {},
   "outputs": [
    {
     "name": "stdout",
     "output_type": "stream",
     "text": [
      "a= 76\n",
      "b= 31\n",
      "Modulo =  14\n"
     ]
    }
   ],
   "source": [
    "a = 76\n",
    "print(\"a=\",a)\n",
    "b = 31\n",
    "print(\"b=\",b)  \n",
    "Mod = (a%b)\n",
    "print (\"Modulo = \", Mod)  "
   ]
  },
  {
   "cell_type": "code",
   "execution_count": 29,
   "metadata": {},
   "outputs": [
    {
     "name": "stdout",
     "output_type": "stream",
     "text": [
      "a= 4\n",
      "b= 4\n",
      "pow =  256\n"
     ]
    }
   ],
   "source": [
    "a = 4\n",
    "print(\"a=\",a)\n",
    "b = 4\n",
    "print(\"b=\",b)  \n",
    "Pow = pow(4, 4)\n",
    "print (\"pow = \", Pow)  "
   ]
  },
  {
   "cell_type": "code",
   "execution_count": 34,
   "metadata": {},
   "outputs": [
    {
     "name": "stdout",
     "output_type": "stream",
     "text": [
      "Enter your weight: 198\n",
      "Enter your height in meters: 70\n",
      "Overweight\n"
     ]
    }
   ],
   "source": [
    "weight = int(input(\"Enter your weight: \"))\n",
    "height = float(input(\"Enter your height in meters: \"))\n",
    "\n",
    "bmi = weight*703 / (height ** 2)\n",
    "\n",
    "if bmi > 30:\n",
    "    print(\"Obesity\")\n",
    "elif bmi >= 25:\n",
    "    print(\"Overweight\")\n",
    "elif bmi >= 18.5:\n",
    "    print(\"Normal\")\n",
    "else:\n",
    "    print(\"Underweight\")"
   ]
  },
  {
   "cell_type": "code",
   "execution_count": null,
   "metadata": {},
   "outputs": [],
   "source": []
  }
 ],
 "metadata": {
  "kernelspec": {
   "display_name": "Python 3",
   "language": "python",
   "name": "python3"
  },
  "language_info": {
   "codemirror_mode": {
    "name": "ipython",
    "version": 3
   },
   "file_extension": ".py",
   "mimetype": "text/x-python",
   "name": "python",
   "nbconvert_exporter": "python",
   "pygments_lexer": "ipython3",
   "version": "3.7.4"
  }
 },
 "nbformat": 4,
 "nbformat_minor": 2
}
